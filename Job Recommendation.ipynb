{
 "cells": [
  {
   "cell_type": "code",
   "execution_count": 1,
   "metadata": {},
   "outputs": [
    {
     "name": "stderr",
     "output_type": "stream",
     "text": [
      "/home/sourish/anaconda3/lib/python3.7/importlib/_bootstrap.py:219: RuntimeWarning: numpy.ufunc size changed, may indicate binary incompatibility. Expected 192 from C header, got 216 from PyObject\n",
      "  return f(*args, **kwds)\n"
     ]
    }
   ],
   "source": [
    "import pandas as pd\n",
    "import matplotlib.pyplot as plt\n",
    "%matplotlib inline"
   ]
  },
  {
   "cell_type": "code",
   "execution_count": 2,
   "metadata": {},
   "outputs": [],
   "source": [
    "DATA = 'dataset/dice_com-job_us_sample.csv'"
   ]
  },
  {
   "cell_type": "code",
   "execution_count": 4,
   "metadata": {},
   "outputs": [
    {
     "data": {
      "text/html": [
       "<div>\n",
       "<style scoped>\n",
       "    .dataframe tbody tr th:only-of-type {\n",
       "        vertical-align: middle;\n",
       "    }\n",
       "\n",
       "    .dataframe tbody tr th {\n",
       "        vertical-align: top;\n",
       "    }\n",
       "\n",
       "    .dataframe thead th {\n",
       "        text-align: right;\n",
       "    }\n",
       "</style>\n",
       "<table border=\"1\" class=\"dataframe\">\n",
       "  <thead>\n",
       "    <tr style=\"text-align: right;\">\n",
       "      <th></th>\n",
       "      <th>advertiserurl</th>\n",
       "      <th>company</th>\n",
       "      <th>employmenttype_jobstatus</th>\n",
       "      <th>jobdescription</th>\n",
       "      <th>jobid</th>\n",
       "      <th>joblocation_address</th>\n",
       "      <th>jobtitle</th>\n",
       "      <th>postdate</th>\n",
       "      <th>shift</th>\n",
       "      <th>site_name</th>\n",
       "      <th>skills</th>\n",
       "      <th>uniq_id</th>\n",
       "    </tr>\n",
       "  </thead>\n",
       "  <tbody>\n",
       "    <tr>\n",
       "      <td>0</td>\n",
       "      <td>https://www.dice.com/jobs/detail/AUTOMATION-TE...</td>\n",
       "      <td>Digital Intelligence Systems, LLC</td>\n",
       "      <td>C2H Corp-To-Corp, C2H Independent, C2H W2, 3 M...</td>\n",
       "      <td>Looking for Selenium engineers...must have sol...</td>\n",
       "      <td>Dice Id : 10110693</td>\n",
       "      <td>Atlanta, GA</td>\n",
       "      <td>AUTOMATION TEST ENGINEER</td>\n",
       "      <td>1 hour ago</td>\n",
       "      <td>Telecommuting not available|Travel not required</td>\n",
       "      <td>NaN</td>\n",
       "      <td>SEE BELOW</td>\n",
       "      <td>418ff92580b270ef4e7c14f0ddfc36b4</td>\n",
       "    </tr>\n",
       "    <tr>\n",
       "      <td>1</td>\n",
       "      <td>https://www.dice.com/jobs/detail/Information-S...</td>\n",
       "      <td>University of Chicago/IT Services</td>\n",
       "      <td>Full Time</td>\n",
       "      <td>The University of Chicago has a rapidly growin...</td>\n",
       "      <td>Dice Id : 10114469</td>\n",
       "      <td>Chicago, IL</td>\n",
       "      <td>Information Security Engineer</td>\n",
       "      <td>1 week ago</td>\n",
       "      <td>Telecommuting not available|Travel not required</td>\n",
       "      <td>NaN</td>\n",
       "      <td>linux/unix, network monitoring, incident respo...</td>\n",
       "      <td>8aec88cba08d53da65ab99cf20f6f9d9</td>\n",
       "    </tr>\n",
       "    <tr>\n",
       "      <td>2</td>\n",
       "      <td>https://www.dice.com/jobs/detail/Business-Solu...</td>\n",
       "      <td>Galaxy Systems, Inc.</td>\n",
       "      <td>Full Time</td>\n",
       "      <td>GalaxE.SolutionsEvery day, our solutions affec...</td>\n",
       "      <td>Dice Id : CXGALXYS</td>\n",
       "      <td>Schaumburg, IL</td>\n",
       "      <td>Business Solutions Architect</td>\n",
       "      <td>2 weeks ago</td>\n",
       "      <td>Telecommuting not available|Travel not required</td>\n",
       "      <td>NaN</td>\n",
       "      <td>Enterprise Solutions Architecture, business in...</td>\n",
       "      <td>46baa1f69ac07779274bcd90b85d9a72</td>\n",
       "    </tr>\n",
       "    <tr>\n",
       "      <td>3</td>\n",
       "      <td>https://www.dice.com/jobs/detail/Java-Develope...</td>\n",
       "      <td>TransTech LLC</td>\n",
       "      <td>Full Time</td>\n",
       "      <td>Java DeveloperFull-time/direct-hireBolingbrook...</td>\n",
       "      <td>Dice Id : 10113627</td>\n",
       "      <td>Bolingbrook, IL</td>\n",
       "      <td>Java Developer (mid level)- FT- GREAT culture,...</td>\n",
       "      <td>2 weeks ago</td>\n",
       "      <td>Telecommuting not available|Travel not required</td>\n",
       "      <td>NaN</td>\n",
       "      <td>Please see job description</td>\n",
       "      <td>3941b2f206ae0f900c4fba4ac0b18719</td>\n",
       "    </tr>\n",
       "    <tr>\n",
       "      <td>4</td>\n",
       "      <td>https://www.dice.com/jobs/detail/DevOps-Engine...</td>\n",
       "      <td>Matrix Resources</td>\n",
       "      <td>Full Time</td>\n",
       "      <td>Midtown based high tech firm has an immediate ...</td>\n",
       "      <td>Dice Id : matrixga</td>\n",
       "      <td>Atlanta, GA</td>\n",
       "      <td>DevOps Engineer</td>\n",
       "      <td>48 minutes ago</td>\n",
       "      <td>Telecommuting not available|Travel not required</td>\n",
       "      <td>NaN</td>\n",
       "      <td>Configuration Management, Developer, Linux, Ma...</td>\n",
       "      <td>45efa1f6bc65acc32bbbb953a1ed13b7</td>\n",
       "    </tr>\n",
       "  </tbody>\n",
       "</table>\n",
       "</div>"
      ],
      "text/plain": [
       "                                       advertiserurl  \\\n",
       "0  https://www.dice.com/jobs/detail/AUTOMATION-TE...   \n",
       "1  https://www.dice.com/jobs/detail/Information-S...   \n",
       "2  https://www.dice.com/jobs/detail/Business-Solu...   \n",
       "3  https://www.dice.com/jobs/detail/Java-Develope...   \n",
       "4  https://www.dice.com/jobs/detail/DevOps-Engine...   \n",
       "\n",
       "                             company  \\\n",
       "0  Digital Intelligence Systems, LLC   \n",
       "1  University of Chicago/IT Services   \n",
       "2               Galaxy Systems, Inc.   \n",
       "3                      TransTech LLC   \n",
       "4                   Matrix Resources   \n",
       "\n",
       "                            employmenttype_jobstatus  \\\n",
       "0  C2H Corp-To-Corp, C2H Independent, C2H W2, 3 M...   \n",
       "1                                          Full Time   \n",
       "2                                          Full Time   \n",
       "3                                          Full Time   \n",
       "4                                          Full Time   \n",
       "\n",
       "                                      jobdescription               jobid  \\\n",
       "0  Looking for Selenium engineers...must have sol...  Dice Id : 10110693   \n",
       "1  The University of Chicago has a rapidly growin...  Dice Id : 10114469   \n",
       "2  GalaxE.SolutionsEvery day, our solutions affec...  Dice Id : CXGALXYS   \n",
       "3  Java DeveloperFull-time/direct-hireBolingbrook...  Dice Id : 10113627   \n",
       "4  Midtown based high tech firm has an immediate ...  Dice Id : matrixga   \n",
       "\n",
       "  joblocation_address                                           jobtitle  \\\n",
       "0         Atlanta, GA                           AUTOMATION TEST ENGINEER   \n",
       "1         Chicago, IL                      Information Security Engineer   \n",
       "2      Schaumburg, IL                       Business Solutions Architect   \n",
       "3     Bolingbrook, IL  Java Developer (mid level)- FT- GREAT culture,...   \n",
       "4         Atlanta, GA                                    DevOps Engineer   \n",
       "\n",
       "         postdate                                            shift site_name  \\\n",
       "0      1 hour ago  Telecommuting not available|Travel not required       NaN   \n",
       "1      1 week ago  Telecommuting not available|Travel not required       NaN   \n",
       "2     2 weeks ago  Telecommuting not available|Travel not required       NaN   \n",
       "3     2 weeks ago  Telecommuting not available|Travel not required       NaN   \n",
       "4  48 minutes ago  Telecommuting not available|Travel not required       NaN   \n",
       "\n",
       "                                              skills  \\\n",
       "0                                          SEE BELOW   \n",
       "1  linux/unix, network monitoring, incident respo...   \n",
       "2  Enterprise Solutions Architecture, business in...   \n",
       "3                         Please see job description   \n",
       "4  Configuration Management, Developer, Linux, Ma...   \n",
       "\n",
       "                            uniq_id  \n",
       "0  418ff92580b270ef4e7c14f0ddfc36b4  \n",
       "1  8aec88cba08d53da65ab99cf20f6f9d9  \n",
       "2  46baa1f69ac07779274bcd90b85d9a72  \n",
       "3  3941b2f206ae0f900c4fba4ac0b18719  \n",
       "4  45efa1f6bc65acc32bbbb953a1ed13b7  "
      ]
     },
     "execution_count": 4,
     "metadata": {},
     "output_type": "execute_result"
    }
   ],
   "source": [
    "df = pd.read_csv(DATA)\n",
    "df.head()"
   ]
  },
  {
   "cell_type": "code",
   "execution_count": 5,
   "metadata": {},
   "outputs": [
    {
     "data": {
      "text/plain": [
       "0        Looking for Selenium engineers...must have sol...\n",
       "1        The University of Chicago has a rapidly growin...\n",
       "2        GalaxE.SolutionsEvery day, our solutions affec...\n",
       "3        Java DeveloperFull-time/direct-hireBolingbrook...\n",
       "4        Midtown based high tech firm has an immediate ...\n",
       "                               ...                        \n",
       "21995     Company Description We are searching for a ta...\n",
       "21996     CONTACT - priya@omegasolutioninc.com / 408-45...\n",
       "21997    Do you take pride in your work knowing that th...\n",
       "21998    Company Description What We Can Offer YouAs th...\n",
       "21999    Experience in C/C++ ProgrammingDevelopment exp...\n",
       "Name: jobdescription, Length: 22000, dtype: object"
      ]
     },
     "execution_count": 5,
     "metadata": {},
     "output_type": "execute_result"
    }
   ],
   "source": [
    "df.jobdescription"
   ]
  },
  {
   "cell_type": "code",
   "execution_count": 9,
   "metadata": {},
   "outputs": [
    {
     "name": "stderr",
     "output_type": "stream",
     "text": [
      "/home/sourish/anaconda3/lib/python3.7/importlib/_bootstrap.py:219: RuntimeWarning: numpy.ufunc size changed, may indicate binary incompatibility. Expected 192 from C header, got 216 from PyObject\n",
      "  return f(*args, **kwds)\n",
      "/home/sourish/anaconda3/lib/python3.7/importlib/_bootstrap.py:219: RuntimeWarning: numpy.ufunc size changed, may indicate binary incompatibility. Expected 192 from C header, got 216 from PyObject\n",
      "  return f(*args, **kwds)\n",
      "/home/sourish/anaconda3/lib/python3.7/importlib/_bootstrap.py:219: RuntimeWarning: numpy.ufunc size changed, may indicate binary incompatibility. Expected 192 from C header, got 216 from PyObject\n",
      "  return f(*args, **kwds)\n",
      "/home/sourish/anaconda3/lib/python3.7/importlib/_bootstrap.py:219: RuntimeWarning: numpy.ufunc size changed, may indicate binary incompatibility. Expected 192 from C header, got 216 from PyObject\n",
      "  return f(*args, **kwds)\n",
      "/home/sourish/anaconda3/lib/python3.7/importlib/_bootstrap.py:219: RuntimeWarning: numpy.ufunc size changed, may indicate binary incompatibility. Expected 192 from C header, got 216 from PyObject\n",
      "  return f(*args, **kwds)\n"
     ]
    }
   ],
   "source": [
    "from nltk import PorterStemmer\n",
    "import nltk\n",
    "from nltk.corpus import stopwords\n",
    "import re\n",
    "\n",
    "# Function to clean text\n",
    "def cleanText(data):\n",
    "    \n",
    "    # Filter alphabets\n",
    "    text = re.sub('[^a-zA-Z]', ' ', data)\n",
    "    # Lowercase and tokenize words\n",
    "    words = nltk.word_tokenize(text.lower())\n",
    "    stops = set(stopwords.words('english'))\n",
    "    # Stem words and remove stpwords\n",
    "    stemmer = PorterStemmer()\n",
    "    lem_words = [stemmer.stem(w) for w in words if w not in stops]\n",
    "    return ' '.join(lem_words)"
   ]
  },
  {
   "cell_type": "code",
   "execution_count": 13,
   "metadata": {},
   "outputs": [],
   "source": [
    "df.jobdescription = df.jobdescription.apply(cleanText)"
   ]
  },
  {
   "cell_type": "code",
   "execution_count": 14,
   "metadata": {},
   "outputs": [
    {
     "data": {
      "text/plain": [
       "0        look selenium engin must solid java code skill...\n",
       "1        univers chicago rapidli grow secur program man...\n",
       "2        galax solutionseveri day solut affect peopl th...\n",
       "3        java developerful time direct hirebolingbrook ...\n",
       "4        midtown base high tech firm immedi need innov ...\n",
       "                               ...                        \n",
       "21995    compani descript search talent creativ profess...\n",
       "21996    contact priya omegasolutioninc com locat san f...\n",
       "21997    take pride work know thousand live posit impac...\n",
       "21998    compani descript offer youa world lead digit e...\n",
       "21999    experi c c programmingdevelop experi win progr...\n",
       "Name: jobdescription, Length: 22000, dtype: object"
      ]
     },
     "execution_count": 14,
     "metadata": {},
     "output_type": "execute_result"
    }
   ],
   "source": [
    "df.jobdescription"
   ]
  },
  {
   "cell_type": "code",
   "execution_count": 16,
   "metadata": {},
   "outputs": [
    {
     "data": {
      "text/plain": [
       "22000"
      ]
     },
     "execution_count": 16,
     "metadata": {},
     "output_type": "execute_result"
    }
   ],
   "source": [
    "corpus = df.jobdescription.values\n",
    "len(corpus)"
   ]
  },
  {
   "cell_type": "code",
   "execution_count": 19,
   "metadata": {},
   "outputs": [],
   "source": [
    "from gensim.models import word2vec\n",
    "\n",
    "tokenized_sentences = [sentence.split() for sentence in corpus]\n",
    "model = word2vec.Word2Vec(tokenized_sentences, min_count=1)"
   ]
  },
  {
   "cell_type": "code",
   "execution_count": 22,
   "metadata": {},
   "outputs": [],
   "source": []
  },
  {
   "cell_type": "code",
   "execution_count": null,
   "metadata": {},
   "outputs": [],
   "source": []
  }
 ],
 "metadata": {
  "kernelspec": {
   "display_name": "Python 3",
   "language": "python",
   "name": "python3"
  },
  "language_info": {
   "codemirror_mode": {
    "name": "ipython",
    "version": 3
   },
   "file_extension": ".py",
   "mimetype": "text/x-python",
   "name": "python",
   "nbconvert_exporter": "python",
   "pygments_lexer": "ipython3",
   "version": "3.7.4"
  }
 },
 "nbformat": 4,
 "nbformat_minor": 2
}
